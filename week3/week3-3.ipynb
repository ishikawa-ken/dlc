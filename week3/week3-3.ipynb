{
  "cells": [
    {
      "cell_type": "markdown",
      "metadata": {
        "id": "IxDwH5Ao-t_a"
      },
      "source": [
        "# ニューラルネットワーク入門"
      ]
    },
    {
      "cell_type": "markdown",
      "metadata": {},
      "source": [
        "## Section 3 Pytorchでの実装"
      ]
    },
    {
      "cell_type": "code",
      "execution_count": null,
      "metadata": {
        "colab": {
          "base_uri": "https://localhost:8080/"
        },
        "id": "9BFooUB9-EXF",
        "outputId": "35bda307-a045-4c1a-caa0-89de75092583"
      },
      "outputs": [],
      "source": [
        "# # Googleドライブのマウント（Colab使いのみ）\n",
        "\n",
        "# from google.colab import drive\n",
        "# drive.mount('/content/drive')\n",
        "\n",
        "# %cd /content/drive/MyDrive/dlc/week3"
      ]
    },
    {
      "cell_type": "code",
      "execution_count": null,
      "metadata": {
        "id": "GxGtp1xw-2cW"
      },
      "outputs": [],
      "source": [
        "# 図表が使えるようにする\n",
        "\n",
        "import matplotlib.pyplot as plt\n",
        "%matplotlib inline\n",
        "import numpy as np"
      ]
    },
    {
      "cell_type": "markdown",
      "metadata": {},
      "source": [
        "### 前処理を定義"
      ]
    },
    {
      "cell_type": "code",
      "execution_count": null,
      "metadata": {},
      "outputs": [],
      "source": [
        "from torchvision import transforms\n",
        "\n",
        "my_transform = transforms.Compose([\n",
        "    transforms.ToTensor(),\n",
        "    transforms.Normalize(\n",
        "        [0.5, 0.5, 0.5],  # RGB 平均\n",
        "        [0.5, 0.5, 0.5]   # RGB 標準偏差\n",
        "    )\n",
        "])"
      ]
    },
    {
      "cell_type": "markdown",
      "metadata": {},
      "source": [
        "### データを準備"
      ]
    },
    {
      "cell_type": "markdown",
      "metadata": {},
      "source": [
        "Dataset : データを一つのデータベースにまとめる"
      ]
    },
    {
      "cell_type": "code",
      "execution_count": null,
      "metadata": {
        "id": "rO53yVOt_MKs"
      },
      "outputs": [],
      "source": [
        "# MNISTをインポートする\n",
        "\n",
        "from torchvision import datasets, transforms\n",
        "\n",
        "train_Dataset = datasets.CIFAR10(\n",
        "    './data'\n",
        "    , train=True\n",
        "    , download=True \n",
        "    , transform=my_transform\n",
        ")\n",
        "\n",
        "test_dataset = datasets.CIFAR10(\n",
        "    './data'\n",
        "    , train=False\n",
        "    , transform=my_transform\n",
        ")"
      ]
    },
    {
      "cell_type": "code",
      "execution_count": null,
      "metadata": {
        "id": "PTBNFZn8KBkF"
      },
      "outputs": [],
      "source": [
        "# 学習データと検証データの分割\n",
        "\n",
        "import torch \n",
        "\n",
        "train_ratio = 0.9\n",
        "train_num = int(len(train_Dataset) * train_ratio)\n",
        "valid_num = len(train_Dataset) - train_num\n",
        "\n",
        "train_dataset, valid_dataset = torch.utils.data.random_split(\n",
        "    train_Dataset\n",
        "    , [train_num, valid_num]\n",
        ")"
      ]
    },
    {
      "cell_type": "code",
      "execution_count": null,
      "metadata": {
        "colab": {
          "base_uri": "https://localhost:8080/"
        },
        "id": "nX3Y2XGjH1Fx",
        "outputId": "1486a8ed-65c9-4e06-9088-85b55ced1124"
      },
      "outputs": [],
      "source": [
        "# 数を確認\n",
        "\n",
        "print(f'Train : {len(train_dataset)}')\n",
        "print(f'Valid : {len(valid_dataset)}')\n",
        "print(f'Test  : {len(test_dataset)}')\n",
        "print(test_dataset.data.shape)"
      ]
    },
    {
      "cell_type": "markdown",
      "metadata": {},
      "source": [
        "DataLoader : データをミニバッチ単位で取り出す "
      ]
    },
    {
      "cell_type": "code",
      "execution_count": null,
      "metadata": {
        "id": "wZ4-2zxwA_hl"
      },
      "outputs": [],
      "source": [
        "# ミニバッチごとに取り出す\n",
        "\n",
        "from torch.utils.data import DataLoader\n",
        "\n",
        "batch_size = 32\n",
        "\n",
        "train_loader = DataLoader(\n",
        "    dataset=train_dataset\n",
        "    , batch_size=batch_size \n",
        "    , shuffle=True\n",
        ")\n",
        "\n",
        "valid_loader = DataLoader(\n",
        "    dataset=valid_dataset\n",
        "    , batch_size=batch_size \n",
        "    , shuffle=True\n",
        ")\n",
        "\n",
        "test_loader = DataLoader(\n",
        "    dataset=test_dataset\n",
        "    , batch_size=batch_size\n",
        "    , shuffle=False\n",
        ")"
      ]
    },
    {
      "cell_type": "code",
      "execution_count": null,
      "metadata": {},
      "outputs": [],
      "source": [
        "classes = ('plane', 'car', 'bird', 'cat', 'deer',\n",
        "            'dog', 'frog', 'horse', 'ship', 'truck')  # CIFAR10のクラス\n",
        " \n",
        "for images, labels in train_loader:\n",
        "    print(images.shape)  # torch.Size([32, 3, 32, 32])\n",
        "\n",
        "    for i in range(3):\n",
        "        for j in range(10):\n",
        "            image = images[i*10+j] / 2 + 0.5\n",
        "            image = image.numpy()\n",
        "            plt.subplot(3, 10, i*10+j + 1)\n",
        "            plt.imshow(np.transpose(image, (1, 2, 0)))\n",
        "            \n",
        "            # 対応するラベル\n",
        "            plt.title(classes[int(labels[i*10+j])])\n",
        "            \n",
        "            # 軸目盛や値はいらないので消す\n",
        "            plt.tick_params(\n",
        "                # labelbottom=False,\n",
        "                labelleft=False,\n",
        "                labelright=False,\n",
        "                labeltop=False,\n",
        "                bottom=False,\n",
        "                left=False,\n",
        "                right=False,\n",
        "                top=False\n",
        "            )\n",
        "\n",
        "    plt.show()\n",
        "    break"
      ]
    },
    {
      "cell_type": "markdown",
      "metadata": {},
      "source": [
        "### ネットワークを定義"
      ]
    },
    {
      "cell_type": "code",
      "execution_count": null,
      "metadata": {
        "id": "zGfRrWK7HQRP"
      },
      "outputs": [],
      "source": [
        "# ネットワークの定義\n",
        "\n",
        "import torch.nn as nn\n",
        "import torch.nn.functional as F\n",
        "\n",
        "# クラス数\n",
        "num_classes = 10\n",
        "\n",
        "class Net(nn.Module):\n",
        "    def __init__(self):\n",
        "        super(Net, self).__init__()\n",
        "        self.conv1 = nn.Conv2d(in_channels=3, out_channels=6, kernel_size=5)\n",
        "        self.pool = nn.MaxPool2d(kernel_size=2, stride=2)\n",
        "        self.conv2 = nn.Conv2d(6, 16, 5)\n",
        "        self.fc1 = nn.Linear(16*5*5, 256)\n",
        "        self.dropout1 = nn.Dropout(p=0.5)\n",
        "        self.fc2 = nn.Linear(256, 10)\n",
        "\n",
        "    def forward(self, x):\n",
        "        x = self.pool(F.relu(self.conv1(x)))\n",
        "        x = self.pool(F.relu(self.conv2(x)))\n",
        "        x = x.view(-1, 16*5*5)\n",
        "        x = F.relu(self.fc1(x))\n",
        "        x = self.dropout1(x)\n",
        "        x = self.fc2(x)\n",
        "        return x"
      ]
    },
    {
      "cell_type": "code",
      "execution_count": null,
      "metadata": {
        "id": "QoxXDqNGMki7"
      },
      "outputs": [],
      "source": [
        "# デバイスに転送\n",
        "\n",
        "device = 'cuda' if torch.cuda.is_available() else 'cpu'\n",
        "model = Net().to(device)"
      ]
    },
    {
      "cell_type": "code",
      "execution_count": null,
      "metadata": {
        "colab": {
          "base_uri": "https://localhost:8080/"
        },
        "id": "jUAW0QcuRViK",
        "outputId": "faab7129-de30-4937-89bb-b37c1eb6555a"
      },
      "outputs": [],
      "source": [
        "# ネットワークの構造を確認\n",
        "\n",
        "print(model)"
      ]
    },
    {
      "cell_type": "markdown",
      "metadata": {},
      "source": [
        "### 損失関数と最適化手法を定義"
      ]
    },
    {
      "cell_type": "code",
      "execution_count": null,
      "metadata": {
        "id": "R0eVusq8R0ew"
      },
      "outputs": [],
      "source": [
        "# 損失関数と最適化手法を設定\n",
        "\n",
        "import torch.optim as optim\n",
        "\n",
        "# 損失関数: 交差エントロピー\n",
        "criterion = nn.CrossEntropyLoss()\n",
        "\n",
        "# 最適化手法: Adam\n",
        "optimizer = optim.Adam(model.parameters(), lr=0.001, weight_decay=5e-4)"
      ]
    },
    {
      "cell_type": "markdown",
      "metadata": {},
      "source": [
        "### 学習"
      ]
    },
    {
      "cell_type": "code",
      "execution_count": null,
      "metadata": {},
      "outputs": [],
      "source": [
        "# 結果保存用リスト\n",
        "\n",
        "train_loss_list, train_acc_list, valid_loss_list, valid_acc_list = [], [], [], []"
      ]
    },
    {
      "cell_type": "code",
      "execution_count": null,
      "metadata": {},
      "outputs": [],
      "source": [
        "# エポック数を設定\n",
        "\n",
        "num_epochs = 10"
      ]
    },
    {
      "cell_type": "code",
      "execution_count": null,
      "metadata": {},
      "outputs": [],
      "source": [
        "###  training\n",
        "print ('training start ...')\n",
        "\n",
        " \n",
        "for epoch in range(num_epochs):\n",
        "    train_loss, train_acc, valid_loss, valid_acc = 0, 0, 0, 0\n",
        "    \n",
        "    # ======== train_mode ======\n",
        "    model.train()\n",
        "    for i, (images, labels) in enumerate(train_loader):  # ミニバッチ回数実行\n",
        "        images, labels = images.to(device), labels.to(device)\n",
        "        optimizer.zero_grad()  # 勾配リセット\n",
        "        outputs = model(images)  # 順伝播の計算\n",
        "        loss = criterion(outputs, labels)  # lossの計算\n",
        "        train_loss += loss.item()  # train_loss に結果を蓄積\n",
        "        acc = (outputs.max(1)[1] == labels).sum()  #  予測とラベルが合っている数の合計\n",
        "        train_acc += acc.item()  # train_acc に結果を蓄積\n",
        "        loss.backward()  # 逆伝播の計算        \n",
        "        optimizer.step()  # 重みの更新\n",
        "        avg_train_loss = train_loss / len(train_loader.dataset)  # lossの平均を計算\n",
        "        avg_train_acc = train_acc / len(train_loader.dataset)  # accの平均を計算\n",
        "\n",
        "    \n",
        "    # ======== valid_mode ======\n",
        "    model.eval()\n",
        "    with torch.no_grad():  # 必要のない計算を停止\n",
        "      for images, labels in valid_loader:        \n",
        "          images, labels = images.to(device), labels.to(device)\n",
        "          outputs = model(images)\n",
        "          loss = criterion(outputs, labels)\n",
        "          valid_loss += loss.item()\n",
        "          acc = (outputs.max(1)[1] == labels).sum()\n",
        "          valid_acc += acc.item()\n",
        "    avg_valid_loss = valid_loss / len(valid_loader.dataset)\n",
        "    avg_valid_acc = valid_acc / len(valid_loader.dataset)\n",
        "    \n",
        "    # print log\n",
        "    print ('Epoch [{}/{}], Loss: {loss:.4f}, val_loss: {valid_loss:.4f}, val_acc: {valid_acc:.4f}' \n",
        "                   .format(epoch+1, num_epochs, i+1, loss=avg_train_loss, valid_loss=avg_valid_loss, valid_acc=avg_valid_acc))\n",
        "     \n",
        "    # append list for polt graph after training\n",
        "    train_loss_list.append(avg_train_loss)\n",
        "    train_acc_list.append(avg_train_acc)\n",
        "    valid_loss_list.append(avg_valid_loss)\n",
        "    valid_acc_list.append(avg_valid_acc)\n",
        "    \n",
        "# ======== fainal test ======\n",
        "model.eval()\n",
        " \n",
        "\n",
        "# plot graph \n",
        "plt.figure()\n",
        "plt.plot(range(len(train_loss_list)), train_loss_list, color='blue', linestyle='-', label='train_loss')\n",
        "plt.plot(range(len(valid_loss_list)), valid_loss_list, color='green', linestyle='--', label='valid_loss')\n",
        "plt.legend()\n",
        "plt.xlabel('epoch')\n",
        "plt.ylabel('loss')\n",
        "plt.title('Training and validation loss')\n",
        "plt.grid()\n",
        " \n",
        "plt.figure()\n",
        "plt.plot(range(len(train_acc_list)), train_acc_list, color='blue', linestyle='-', label='train_acc')\n",
        "plt.plot(range(len(valid_acc_list)), valid_acc_list, color='green', linestyle='--', label='valid_acc')\n",
        "plt.legend()\n",
        "plt.xlabel('epoch')\n",
        "plt.ylabel('acc')\n",
        "plt.title('Training and validation accuracy')\n",
        "plt.grid()"
      ]
    },
    {
      "cell_type": "code",
      "execution_count": null,
      "metadata": {},
      "outputs": [],
      "source": [
        "# 重みの保存\n",
        "\n",
        "torch.save(model.state_dict(), 'mnist_model_20.ckpt')"
      ]
    },
    {
      "cell_type": "code",
      "execution_count": null,
      "metadata": {},
      "outputs": [],
      "source": [
        "# テストデータでAccを確認\n",
        "\n",
        "model.eval()\n",
        "with torch.no_grad():\n",
        "    total = 0\n",
        "    test_acc = 0\n",
        "    for images, labels in test_loader:        \n",
        "        images, labels = images.to(device), labels.to(device)\n",
        "        outputs = model(images)\n",
        "        test_acc += (outputs.max(1)[1] == labels).sum().item()\n",
        "        total += labels.size(0)\n",
        "    print('test_accuracy: {} %'.format(100 * test_acc / total)) "
      ]
    },
    {
      "cell_type": "markdown",
      "metadata": {},
      "source": [
        "### 学習済みモデルの利用"
      ]
    },
    {
      "cell_type": "code",
      "execution_count": null,
      "metadata": {},
      "outputs": [],
      "source": [
        "# vgg16\n",
        "\n",
        "from torchvision import models\n",
        "\n",
        "model_vgg = models.vgg16(pretrained=True)\n",
        "vggnet = model_vgg.to(device)"
      ]
    },
    {
      "cell_type": "code",
      "execution_count": null,
      "metadata": {},
      "outputs": [],
      "source": [
        "###  training\n",
        "print ('training start ...')\n",
        "\n",
        " \n",
        "for epoch in range(num_epochs):\n",
        "    train_loss, train_acc, valid_loss, valid_acc = 0, 0, 0, 0\n",
        "    \n",
        "    # ======== train_mode ======\n",
        "    vggnet.train()\n",
        "    for i, (images, labels) in enumerate(train_loader):  # ミニバッチ回数実行\n",
        "        images, labels = images.to(device), labels.to(device)\n",
        "        optimizer.zero_grad()  # 勾配リセット\n",
        "        outputs = vggnet(images)  # 順伝播の計算\n",
        "        loss = criterion(outputs, labels)  # lossの計算\n",
        "        train_loss += loss.item()  # train_loss に結果を蓄積\n",
        "        acc = (outputs.max(1)[1] == labels).sum()  #  予測とラベルが合っている数の合計\n",
        "        train_acc += acc.item()  # train_acc に結果を蓄積\n",
        "        loss.backward()  # 逆伝播の計算        \n",
        "        optimizer.step()  # 重みの更新\n",
        "        avg_train_loss = train_loss / len(train_loader.dataset)  # lossの平均を計算\n",
        "        avg_train_acc = train_acc / len(train_loader.dataset)  # accの平均を計算\n",
        "\n",
        "    \n",
        "    # ======== valid_mode ======\n",
        "    vggnet.eval()\n",
        "    with torch.no_grad():  # 必要のない計算を停止\n",
        "      for images, labels in valid_loader:        \n",
        "          images, labels = images.to(device), labels.to(device)\n",
        "          outputs = vggnet(images)\n",
        "          loss = criterion(outputs, labels)\n",
        "          valid_loss += loss.item()\n",
        "          acc = (outputs.max(1)[1] == labels).sum()\n",
        "          valid_acc += acc.item()\n",
        "    avg_valid_loss = valid_loss / len(valid_loader.dataset)\n",
        "    avg_valid_acc = valid_acc / len(valid_loader.dataset)\n",
        "    \n",
        "    # print log\n",
        "    print ('Epoch [{}/{}], Loss: {loss:.4f}, val_loss: {valid_loss:.4f}, val_acc: {valid_acc:.4f}' \n",
        "                   .format(epoch+1, num_epochs, i+1, loss=avg_train_loss, valid_loss=avg_valid_loss, valid_acc=avg_valid_acc))\n",
        "     \n",
        "    # append list for polt graph after training\n",
        "    train_loss_list.append(avg_train_loss)\n",
        "    train_acc_list.append(avg_train_acc)\n",
        "    valid_loss_list.append(avg_valid_loss)\n",
        "    valid_acc_list.append(avg_valid_acc)\n",
        "    \n",
        "# ======== fainal test ======\n",
        "vggnet.eval()\n",
        " \n",
        "\n",
        "# plot graph \n",
        "plt.figure()\n",
        "plt.plot(range(len(train_loss_list)), train_loss_list, color='blue', linestyle='-', label='train_loss')\n",
        "plt.plot(range(len(valid_loss_list)), valid_loss_list, color='green', linestyle='--', label='valid_loss')\n",
        "plt.legend()\n",
        "plt.xlabel('epoch')\n",
        "plt.ylabel('loss')\n",
        "plt.title('Training and validation loss')\n",
        "plt.grid()\n",
        " \n",
        "plt.figure()\n",
        "plt.plot(range(len(train_acc_list)), train_acc_list, color='blue', linestyle='-', label='train_acc')\n",
        "plt.plot(range(len(valid_acc_list)), valid_acc_list, color='green', linestyle='--', label='valid_acc')\n",
        "plt.legend()\n",
        "plt.xlabel('epoch')\n",
        "plt.ylabel('acc')\n",
        "plt.title('Training and validation accuracy')\n",
        "plt.grid()"
      ]
    },
    {
      "cell_type": "code",
      "execution_count": null,
      "metadata": {},
      "outputs": [],
      "source": [
        "# resnet50\n",
        "\n",
        "from torchvision import models\n",
        "\n",
        "model_res = models.resnet50(pretrained=True)\n",
        "model_res.fc = nn.Linear(model_res.fc.in_features, 10)\n",
        "resnet = model_res.to(device)"
      ]
    }
  ],
  "metadata": {
    "accelerator": "GPU",
    "colab": {
      "name": "week2-3.ipynb",
      "provenance": []
    },
    "kernelspec": {
      "display_name": "Python 3",
      "name": "python3"
    },
    "language_info": {
      "codemirror_mode": {
        "name": "ipython",
        "version": 3
      },
      "file_extension": ".py",
      "mimetype": "text/x-python",
      "name": "python",
      "nbconvert_exporter": "python",
      "pygments_lexer": "ipython3",
      "version": "3.7.5"
    }
  },
  "nbformat": 4,
  "nbformat_minor": 0
}
