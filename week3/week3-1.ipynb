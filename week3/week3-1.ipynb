{
 "cells": [
  {
   "cell_type": "markdown",
   "metadata": {},
   "source": [
    "# 畳み込みニューラルネットワーク (CNN)"
   ]
  },
  {
   "cell_type": "markdown",
   "metadata": {},
   "source": [
    "## 今日の目標\n",
    "カラー画像の分類に挑戦してみよう"
   ]
  },
  {
   "cell_type": "markdown",
   "metadata": {},
   "source": [
    "## 目次\n",
    "\n",
    "- Section1 畳み込みニューラルネットワークとは\n",
    "  - 1.1 CNNの構成\n",
    "  - 1.2 畳み込み層 (Convolution Layer)\n",
    "  - 1.3 プーリング層 (Pooling Layer)\n",
    "  - 1.4 全結合層 (Dense Layer)\n",
    "  - 1.5 正規化層 (Normalization Layer)\n",
    "- Section2 汎化性能を上げる\n",
    "  - 2.1 大規模データセットの利用\n",
    "  - 2.2 データ拡張\n",
    "  - 2.3 前処理\n",
    "  - 2.4 バッチ正規化\n",
    "  - 2.5 ドロップアウト\n",
    "  - 2.6 正則化\n",
    "  - 2.7 初期化\n",
    "- Section3 Pytorchでの実装\n",
    "- Section4 有名なCNN\n",
    "  - 4.1 LeNet\n",
    "  - 4.2 AlexNet\n",
    "  - 4.3 "
   ]
  },
  {
   "cell_type": "code",
   "execution_count": 1,
   "metadata": {},
   "outputs": [],
   "source": [
    "# # Googleドライブのマウント（Colab使いのみ）\n",
    "\n",
    "# from google.colab import drive\n",
    "# drive.mount('/content/drive')\n",
    "\n",
    "# %cd /content/drive/MyDrive/dlc/week3"
   ]
  },
  {
   "cell_type": "code",
   "execution_count": 2,
   "metadata": {},
   "outputs": [],
   "source": [
    "# 図表が使えるようにする\n",
    "\n",
    "import matplotlib.pyplot as plt\n",
    "%matplotlib inline"
   ]
  },
  {
   "cell_type": "markdown",
   "metadata": {},
   "source": [
    "## Section1 CNNとは"
   ]
  },
  {
   "cell_type": "markdown",
   "metadata": {},
   "source": [
    "### 1.1 CNNの構成\n",
    "\n",
    "**Convolutional Neural Network (CNN)** は画像認識、音声認識、自然言語処理など、幅広くタスクにおいて使用されているニューラルネットワークの一種です。中でも、画像認識で高い精度を上げたモデルにはCNNをベースに設計されたものが多くあります。\n",
    "\n",
    "CNNは **畳み込み層 (Convolution layer)** ・ **プーリング層 (Pooling layer)** 呼ばれる層を組み合わせて構築していきます。(2種類の層で構築可能ですが、出力に近い層は **全結合層 (Dense layer)** を組み合わせることがほとんどです。)\n",
    "\n",
    "\n",
    "<img src=\"figures/cnn.png\" width=\"60%\">\n",
    "\n",
    "出典：https://deepage.net/deep_learning/2016/11/07/convolutional_neural_network.html"
   ]
  },
  {
   "cell_type": "markdown",
   "metadata": {},
   "source": [
    "### 1.2 畳み込み層 (Convolution Layer)\n"
   ]
  },
  {
   "cell_type": "markdown",
   "metadata": {},
   "source": [
    "#### 1.2.1 畳み込みの考え方\n",
    "\n",
    "畳み込みは入力のある領域とフィルタの内積を計算することによってフィルタとの類似度のようなものを計算することです。フィルタの数を増やすと多くの特徴を、フィルタのサイズを大きくすると広い範囲の特徴を、小さくすると狭い範囲の特徴を獲得できます。\n",
    "\n",
    "畳み込みによって得られるものを **特徴マップ (feature map)** と呼ぶことがあります。\n",
    "\n",
    "<img src=\"figures/conv.gif\" width=\"500\">\n",
    "\n",
    "出典：http://deeplearning.stanford.edu/wiki/images/6/6c/Convolution_schematic.gif"
   ]
  },
  {
   "cell_type": "code",
   "execution_count": 3,
   "metadata": {},
   "outputs": [],
   "source": [
    "from PIL import Image\n",
    "import numpy as np\n",
    "import torch\n",
    "import torchvision\n",
    "\n",
    "def tensor2plot(ts_input, ts_kernel, ts_output):\n",
    "    fig = plt.figure()\n",
    "    ax0 = plt.subplot2grid((1, 11), (0, 0), colspan=4)\n",
    "    ax1 = plt.subplot2grid((1, 11), (0, 5), colspan=1)\n",
    "    ax2 = plt.subplot2grid((1, 11), (0, 7), colspan=4)\n",
    "    ax0.set_title('x'.join([str(_) for _ in ts_input[0][0].size()]))\n",
    "    ax0.imshow(ts_input[0][0], cmap='gray')\n",
    "    ax1.set_title('x'.join([str(_) for _ in ts_kernel[0][0].size()]))\n",
    "    ax1.imshow(ts_kernel[0][0], cmap='gray')\n",
    "    ax2.set_title('x'.join([str(_) for _ in ts_output[0][0].size()]))\n",
    "    ax2.imshow(ts_output[0][0].detach().numpy(), cmap='gray')"
   ]
  },
  {
   "cell_type": "code",
   "execution_count": 4,
   "metadata": {},
   "outputs": [
    {
     "data": {
      "image/png": "[encoded data removed]",
      "text/plain": [
       "<Figure size 432x288 with 3 Axes>"
      ]
     },
     "metadata": {
      "needs_background": "light"
     },
     "output_type": "display_data"
    }
   ],
   "source": [
    "img = Image.open('./figures/example2.png')\n",
    "trans = torchvision.transforms.ToTensor()\n",
    "input_image = trans(img.convert('L')).unsqueeze(0)\n",
    "\n",
    "kernel = torch.tensor(np.array(\n",
    "    [[1, -0.5, -0.5]\n",
    "    ,[-0.5, 1, -0.5]\n",
    "    ,[-0.5, -0.5, 1]]\n",
    ").astype('float32')).reshape(1, 1, 3, 3)\n",
    "\n",
    "Conv = torch.nn.Conv2d(\n",
    "    in_channels=1, \n",
    "    out_channels=1, \n",
    "    kernel_size=(3, 3), \n",
    "    bias=False\n",
    ")\n",
    "Conv.weight.data = kernel\n",
    "output_map = Conv(input_image)\n",
    "\n",
    "tensor2plot(input_image, Conv.weight.data, output_map)"
   ]
  },
  {
   "cell_type": "markdown",
   "metadata": {},
   "source": [
    "#### 1.2.2 パディング\n",
    "\n",
    "入力に対してそのまま畳み込むと出力される特徴マップのサイズは小さくなります。これを防ぐために行われる、入力の端に0などの値をくっつける処理のことを **パディング (padding)** と言います。 \n",
    "\n",
    "<img src=\"figures/padding.png\" width=\"60%\">"
   ]
  },
  {
   "cell_type": "code",
   "execution_count": 5,
   "metadata": {},
   "outputs": [
    {
     "data": {
      "image/png": "[encoded data removed]",
      "text/plain": [
       "<Figure size 432x288 with 3 Axes>"
      ]
     },
     "metadata": {
      "needs_background": "light"
     },
     "output_type": "display_data"
    }
   ],
   "source": [
    "img = Image.open('./figures/example2.png')\n",
    "trans = torchvision.transforms.ToTensor()\n",
    "input_image = trans(img.convert('L')).unsqueeze(0)\n",
    "\n",
    "kernel = torch.tensor(np.array(\n",
    "    [[1, -0.5, -0.5]\n",
    "    ,[-0.5, 1, -0.5]\n",
    "    ,[-0.5, -0.5, 1]]\n",
    ").astype('float32')).reshape(1, 1, 3, 3)\n",
    "\n",
    "Conv = torch.nn.Conv2d(\n",
    "    in_channels=1, \n",
    "    out_channels=1, \n",
    "    kernel_size=(3, 3), \n",
    "    padding=1,\n",
    "    padding_mode='zeros',\n",
    "    bias=False\n",
    ")\n",
    "Conv.weight.data = kernel\n",
    "output_map = Conv(input_image)\n",
    "\n",
    "tensor2plot(input_image, Conv.weight.data, output_map)"
   ]
  },
  {
   "cell_type": "markdown",
   "metadata": {},
   "source": [
    "### 1.2.3 ストライド\n",
    "\n",
    "フィルタを畳みこむ間隔のことを **ストライド (stride)** と言います。\n",
    "\n",
    "<img src=\"figures/stride.gif\" width=\"60%\">\n",
    "\n",
    "入力サイズを $I_w, I_h$、フィルタサイズを $k_w, k_h$ 、パディングを $p$、ストライドを $s$ とすると、出力サイズ $O_w, O_h$ は\n",
    "\n",
    "$$ O_w = \\frac{I_w + 2p - k_w}{s} + 1 $$\n",
    "$$ O_h = \\frac{I_h + 2p - k_h}{s} + 1 $$\n",
    "\n",
    "となります。"
   ]
  },
  {
   "cell_type": "code",
   "execution_count": 6,
   "metadata": {},
   "outputs": [
    {
     "data": {
      "image/png": "[encoded data removed]",
      "text/plain": [
       "<Figure size 432x288 with 3 Axes>"
      ]
     },
     "metadata": {
      "needs_background": "light"
     },
     "output_type": "display_data"
    }
   ],
   "source": [
    "img = Image.open('./figures/example2.png')\n",
    "trans = torchvision.transforms.ToTensor()\n",
    "input_image = trans(img.convert('L')).unsqueeze(0)\n",
    "\n",
    "kernel = torch.tensor(np.array(\n",
    "    [[1, -0.5, -0.5]\n",
    "    ,[-0.5, 1, -0.5]\n",
    "    ,[-0.5, -0.5, 1]]\n",
    ").astype('float32')).reshape(1, 1, 3, 3)\n",
    "\n",
    "Conv = torch.nn.Conv2d(\n",
    "    in_channels=1, \n",
    "    out_channels=1, \n",
    "    kernel_size=(3, 3), \n",
    "    padding=1,\n",
    "    stride=2,\n",
    "    bias=False\n",
    ")\n",
    "Conv.weight.data = kernel\n",
    "output_map = Conv(input_image)\n",
    "\n",
    "tensor2plot(input_image, Conv.weight.data, output_map)"
   ]
  },
  {
   "cell_type": "markdown",
   "metadata": {},
   "source": [
    "#### 1.2.4 畳み込み層の特徴\n",
    "\n",
    "畳み込み層はMLPのような全結合層だけで構成されたモデルと比較すると、\n",
    "- 局所結合\n",
    "- 重み共有\n",
    "\n",
    "という特徴があり、パラメータ数が少なくなるというメリットがあります。\n",
    "\n",
    "そのため2次元の画像のように、近い画素同士の関係性が強く、離れた画素同士の関係性が低いと考えられるデータに最適です。\n",
    "\n",
    "<img src=\"figures/sharing.png\" width=\"60%\">"
   ]
  },
  {
   "cell_type": "markdown",
   "metadata": {},
   "source": [
    "### 1.3 プーリング層 (Pooling Layer)"
   ]
  },
  {
   "cell_type": "markdown",
   "metadata": {},
   "source": [
    "#### 1.3.1 プーリングの考え方\n",
    "\n",
    "小さな領域に対して統計量 (最大値、平均値等) を取ることで、特徴をなるべく失わずにデータ量を圧縮＆位置のズレに対して頑強な特徴抽出を行います。\n",
    "\n",
    "主に、最大値プーリング (max pooling) と平均値プーリング (average pooling) が用いられます。\n",
    "\n",
    "<img src=\"figures/max_pooling.png\" width=\"60%\">"
   ]
  },
  {
   "cell_type": "code",
   "execution_count": 7,
   "metadata": {},
   "outputs": [
    {
     "data": {
      "image/png": "[encoded data removed]",
      "text/plain": [
       "<Figure size 432x288 with 3 Axes>"
      ]
     },
     "metadata": {
      "needs_background": "light"
     },
     "output_type": "display_data"
    }
   ],
   "source": [
    "img = Image.open('./figures/example2.png')\n",
    "trans = torchvision.transforms.ToTensor()\n",
    "input_image = trans(img.convert('L')).unsqueeze(0)\n",
    "\n",
    "Pool = torch.nn.MaxPool2d(\n",
    "    kernel_size=(2, 2), \n",
    "    padding=0,\n",
    "    stride=None,\n",
    ")\n",
    "output_map = Pool(input_image)\n",
    "\n",
    "tensor2plot(input_image, trans(np.zeros((2, 2))).unsqueeze(0), output_map)"
   ]
  },
  {
   "cell_type": "markdown",
   "metadata": {},
   "source": [
    "### 1.4 全結合層 (Dense Layer)\n",
    "\n",
    "全結合層は、多層パーセプトロンと同様に重み付き結合を計算し、活性化関数によって値を求めます。局所的な特徴を捉える畳み込み層、プーリング層と違って広域的な特徴を捉えることに長けていますが、位置情報を失ってしまうためネットワークの最後で使われます。"
   ]
  },
  {
   "cell_type": "markdown",
   "metadata": {},
   "source": [
    "### 1.5 正規化層 (Normalization Layer)\n",
    "\n",
    "数多くの手法が提案されましたが、ほとんど効果がないと示されたため、新たに使われることはめったにありません。少し古いモデルに導入されているケースがあります。"
   ]
  }
 ],
 "metadata": {
  "interpreter": {
   "hash": "7cf671263d4c51f2d66b480f72e1e8058975d5cfc878dca772fd6bfe3ea757f9"
  },
  "kernelspec": {
   "display_name": "Python 3.7.5 64-bit ('colab': venv)",
   "language": "python",
   "name": "python3"
  },
  "language_info": {
   "codemirror_mode": {
    "name": "ipython",
    "version": 3
   },
   "file_extension": ".py",
   "mimetype": "text/x-python",
   "name": "python",
   "nbconvert_exporter": "python",
   "pygments_lexer": "ipython3",
   "version": "3.8.12"
  },
  "orig_nbformat": 4
 },
 "nbformat": 4,
 "nbformat_minor": 2
}
