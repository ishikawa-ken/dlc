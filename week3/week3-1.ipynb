{
 "cells": [
  {
   "cell_type": "markdown",
   "metadata": {},
   "source": [
    "# 畳み込みニューラルネットワーク (CNN)"
   ]
  },
  {
   "cell_type": "markdown",
   "metadata": {},
   "source": [
    "## 今日の目標\n",
    "カラー画像の分類に挑戦してみよう"
   ]
  },
  {
   "cell_type": "markdown",
   "metadata": {},
   "source": [
    "## 目次\n",
    "\n",
    "- Section1 畳み込みニューラルネットワークとは\n",
    "  - 1.1 CNNの構成\n",
    "  - 1.2 畳み込み層 (Convolution Layer)\n",
    "  - 1.3 プーリング層 (Pooling Layer)\n",
    "  - 1.4 全結合層 (Dense Layer)\n",
    "- Section2 Pytorchでの実装\n",
    "- Section3 汎化性能を上げる"
   ]
  },
  {
   "cell_type": "markdown",
   "metadata": {},
   "source": [
    "## Section1 CNNとは"
   ]
  },
  {
   "cell_type": "markdown",
   "metadata": {},
   "source": [
    "### 1.1 CNNの構成\n",
    "\n",
    "**Convolutional Neural Network (CNN)** は画像認識、音声認識、自然言語処理など、幅広くタスクにおいて使用されているニューラルネットワークの一種です。中でも、画像認識で高い精度を上げたモデルにはCNNをベースに設計されたものが多くあります。\n",
    "\n",
    "CNNは **畳み込み層 (Convolution layer)** ・ **プーリング層 (Pooling layer)** 呼ばれる層を組み合わせて構築していきます。(2種類の層で構築可能ですが、出力に近い層は **全結合層 (Dense layer)** を組み合わせることがほとんどです。)\n",
    "\n",
    "\n",
    "<img src=\"figures/cnn.png\" width=\"60%\">\n",
    "\n",
    "出典：https://deepage.net/deep_learning/2016/11/07/convolutional_neural_network.html"
   ]
  },
  {
   "cell_type": "markdown",
   "metadata": {},
   "source": [
    "### 1.2 畳み込み層 (Convolution Layer)\n"
   ]
  },
  {
   "cell_type": "markdown",
   "metadata": {},
   "source": [
    "#### 1.2.1 畳み込みの考え方\n",
    "\n",
    "畳み込みは入力のある領域とフィルターの内積を計算することによってフィルターとの類似度のようなものを計算することです。フィルターの数を増やすと多くの特徴を、フィルターのサイズを大きくすると広い範囲の特徴を、小さくすると狭い範囲の特徴を獲得できます。\n",
    "\n",
    "畳み込みによって得られるものを **特徴マップ** と呼ぶことがあります。\n",
    "\n",
    "<img src=\"figures/conv.gif\" width=\"500\">\n",
    "\n",
    "出典：http://deeplearning.stanford.edu/wiki/images/6/6c/Convolution_schematic.gif"
   ]
  },
  {
   "cell_type": "markdown",
   "metadata": {},
   "source": [
    "#### 1.2.1 必要な数"
   ]
  },
  {
   "cell_type": "markdown",
   "metadata": {},
   "source": [
    "#### 1.2.3 良いこと\n",
    "\n",
    "畳み込み層はMLPのような全結合層だけで構成されたモデルと比較すると、\n",
    "- 局所結合\n",
    "- 重み共有\n",
    "\n",
    "特徴があるためパラメータ数が少なくなるというメリットがあります。\n",
    "\n",
    "そのため2次元の画像のように、近い画素同士の関係性が強く、離れた画素同士の関係性が低いと考えられるデータに最適です。\n",
    "\n",
    "##### 局所結合\n",
    "\n",
    "\n",
    "\n",
    "##### 重み共有"
   ]
  },
  {
   "cell_type": "markdown",
   "metadata": {},
   "source": [
    "### 1.3 プーリング層 (Pooling Layer)"
   ]
  },
  {
   "cell_type": "markdown",
   "metadata": {},
   "source": [
    "### 1.4 全結合層 (Dense Layer)"
   ]
  }
 ],
 "metadata": {
  "interpreter": {
   "hash": "7cf671263d4c51f2d66b480f72e1e8058975d5cfc878dca772fd6bfe3ea757f9"
  },
  "kernelspec": {
   "display_name": "Python 3.7.5 64-bit ('colab': venv)",
   "language": "python",
   "name": "python3"
  },
  "language_info": {
   "name": "python",
   "version": "3.7.5"
  },
  "orig_nbformat": 4
 },
 "nbformat": 4,
 "nbformat_minor": 2
}
