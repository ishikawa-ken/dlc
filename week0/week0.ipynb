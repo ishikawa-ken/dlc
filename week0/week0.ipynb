{
  "cells": [
    {
      "cell_type": "markdown",
      "metadata": {
        "colab_type": "text",
        "id": "view-in-github"
      },
      "source": [
        "<a href=\"https://colab.research.google.com/gist/ishikawa-ken/28d7eb3503fb6b640e8da62b3e1f65b8/week0.ipynb\" target=\"_parent\"><img src=\"https://colab.research.google.com/assets/colab-badge.svg\" alt=\"Open In Colab\"/></a>"
      ]
    },
    {
      "cell_type": "markdown",
      "metadata": {
        "id": "IxzgMmzEUcR8"
      },
      "source": [
        "## Colabを使う場合"
      ]
    },
    {
      "cell_type": "markdown",
      "metadata": {
        "id": "3vIRR89tYGqO"
      },
      "source": [
        "### Google Driveのマウント＋ソースのダウンロード\n",
        "Colabは一定時間で作業ディレクトリが消えてしまうので、毎回ダウンロードするのがめんどくさいファイルなどをGoogle Driveに保存するようにします。\n",
        "\n",
        "1. 左端のファイルボタンを押す\n",
        "2. `ドライブをマウント`を押す\n",
        "3. ログイン＆許可する\n",
        "4. 下のセルを実行する"
      ]
    },
    {
      "cell_type": "code",
      "execution_count": null,
      "metadata": {},
      "outputs": [],
      "source": [
        "# マウントする\n",
        "from google.colab import drive\n",
        "drive.mount('/content/drive')"
      ]
    },
    {
      "cell_type": "markdown",
      "metadata": {},
      "source": [
        "初回のみ"
      ]
    },
    {
      "cell_type": "code",
      "execution_count": null,
      "metadata": {
        "id": "CyxKnX8nXEqH"
      },
      "outputs": [],
      "source": [
        "%cd /content/drive/MyDrive/\n",
        "!git clone https://github.com/ishikawa-ken/dlc.git"
      ]
    },
    {
      "cell_type": "markdown",
      "metadata": {},
      "source": [
        "2回目以降"
      ]
    },
    {
      "cell_type": "code",
      "execution_count": null,
      "metadata": {},
      "outputs": [],
      "source": [
        "%cd /content/drive/MyDrive/dlc\n",
        "!git pull"
      ]
    },
    {
      "cell_type": "markdown",
      "metadata": {},
      "source": [
        "↑でエラーが出た時（ローカルの修正は捨てる）"
      ]
    },
    {
      "cell_type": "code",
      "execution_count": null,
      "metadata": {},
      "outputs": [],
      "source": [
        "%cd /content/drive/MyDrive/dlc\n",
        "!git fetch --all\n",
        "!git reset --hard origin/main"
      ]
    },
    {
      "cell_type": "markdown",
      "metadata": {
        "id": "Qc1RXd6wqnFp"
      },
      "source": [
        "### ColabでGPUが使えるようにする\n",
        "`ランタイム` > `ランタイムのタイプを変更` \n",
        "から\n",
        "`ハードウェアアクセラレータ`を`GPU`に変更する。"
      ]
    },
    {
      "cell_type": "code",
      "execution_count": null,
      "metadata": {
        "colab": {
          "base_uri": "https://localhost:8080/"
        },
        "id": "u8lP14bbdKk4",
        "outputId": "2448316f-108f-4b3b-c334-ec5bbaba3cc4"
      },
      "outputs": [
        {
          "name": "stdout",
          "output_type": "stream",
          "text": [
            "--- System ---\n",
            "Python 3.7.12 (default, Sep 10 2021, 00:21:48) \n",
            "[GCC 7.5.0]\n",
            "--- Library ---\n",
            "pandas       : 1.1.5\n",
            "matplotlib   : 3.2.2\n",
            "NumPy        : 1.19.5\n",
            "SciPy        : 1.4.1\n",
            "IPython      : 5.5.0\n",
            "scikit-learn : 1.0.1\n",
            "Pytorch      : 1.10.0+cu111\n",
            "--- GPU ---\n",
            "1\n",
            "Tesla K80\n",
            "True\n",
            "---\n"
          ]
        }
      ],
      "source": [
        "# 確認用コード（Ctrl+Enter）\n",
        "\n",
        "import sys\n",
        "import pandas as pd\n",
        "import numpy as np\n",
        "import matplotlib\n",
        "import scipy as sp\n",
        "import IPython\n",
        "import sklearn\n",
        "import torch\n",
        "\n",
        "\n",
        "print(\"--- System ---\")\n",
        "print(\"Python {}\".format(sys.version))\n",
        "\n",
        "print(\"--- Library ---\")\n",
        "print(\"{:<12} : {:>5}\".format(\"pandas\", pd.__version__))\n",
        "print(\"{:<12} : {:>5}\".format(\"matplotlib\", matplotlib.__version__))\n",
        "print(\"{:<12} : {:>5}\".format(\"NumPy\", np.__version__))\n",
        "print(\"{:<12} : {:>5}\".format(\"SciPy\", sp.__version__))\n",
        "print(\"{:<12} : {:>5}\".format(\"IPython\", IPython.__version__))\n",
        "print(\"{:<12} : {:>5}\".format(\"scikit-learn\", sklearn.__version__))\n",
        "print(\"{:<12} : {:>5}\".format(\"Pytorch\", torch.__version__))\n",
        "\n",
        "print(\"--- GPU ---\")\n",
        "print(torch.cuda.device_count())\n",
        "print(torch.cuda.get_device_name(0))\n",
        "print(torch.cuda.is_available())\n",
        "print(\"---\")"
      ]
    },
    {
      "cell_type": "markdown",
      "metadata": {
        "id": "tK8wHwLpwCf3"
      },
      "source": [
        "### Colabの詳しい使い方\n",
        "動画：https://www.youtube.com/watch?v=2tm8qrjVrk8"
      ]
    },
    {
      "cell_type": "markdown",
      "metadata": {
        "id": "xY-c6S1EuDmH"
      },
      "source": [
        "## Colabを使わない場合（GPU付きのPCを使う）\n",
        "`Jupyter Lab`というものをインストールしたらできます。環境構築がめんどくさいので得意じゃない人にはおすすめしません。どうしても使う場合はPythonとライブラリのバージョンをできるだけ合わせておいてください。\n",
        "\n",
        "**絶対必要なやつ**\n",
        "- python3\n",
        "- jupyter lab\n",
        "- cuda\n",
        "- cudnn\n",
        "\n",
        "**絶対必要なライブラリ - python**\n",
        "- numpy\n",
        "- matplotlib\n",
        "- pandas\n",
        "- seaborn\n",
        "- opencv-python\n",
        "- sklearn\n",
        "- torch(+cuda)\n",
        "- torchvision\n",
        "- tensorboardX"
      ]
    },
    {
      "cell_type": "code",
      "execution_count": null,
      "metadata": {
        "id": "ziTcWa3Rw3UT"
      },
      "outputs": [],
      "source": [
        "# 全ライブラリの確認\n",
        "\n",
        "!pip freeze > requirements.txt"
      ]
    }
  ],
  "metadata": {
    "accelerator": "GPU",
    "colab": {
      "authorship_tag": "ABX9TyNOWBHbr2cbv5lOXSzX4SA7",
      "include_colab_link": true,
      "mount_file_id": "1GhSRxRsOOaN7NwFawM3HTgf621lgpS2P",
      "name": "week0.ipynb",
      "provenance": []
    },
    "kernelspec": {
      "display_name": "Python 3",
      "name": "python3"
    },
    "language_info": {
      "name": "python"
    }
  },
  "nbformat": 4,
  "nbformat_minor": 0
}
