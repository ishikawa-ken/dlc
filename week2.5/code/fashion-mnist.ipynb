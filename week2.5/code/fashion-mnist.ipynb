{
  "cells": [
    {
      "cell_type": "code",
      "execution_count": null,
      "metadata": {
        "colab": {
          "base_uri": "https://localhost:8080/"
        },
        "id": "9BFooUB9-EXF",
        "outputId": "35bda307-a045-4c1a-caa0-89de75092583"
      },
      "outputs": [],
      "source": [
        "# # Googleドライブのマウント（Colab使いのみ）\n",
        "\n",
        "# from google.colab import drive\n",
        "# drive.mount('/content/drive')\n",
        "\n",
        "# %cd /content/drive/MyDrive/dlc/week2"
      ]
    },
    {
      "cell_type": "code",
      "execution_count": null,
      "metadata": {
        "id": "GxGtp1xw-2cW"
      },
      "outputs": [],
      "source": [
        "# 図表が使えるようにする\n",
        "\n",
        "import matplotlib.pyplot as plt\n",
        "%matplotlib inline"
      ]
    },
    {
      "cell_type": "markdown",
      "metadata": {
        "id": "IxDwH5Ao-t_a"
      },
      "source": [
        "## データの入力"
      ]
    },
    {
      "cell_type": "markdown",
      "metadata": {},
      "source": [
        "### Pytorch"
      ]
    },
    {
      "cell_type": "code",
      "execution_count": null,
      "metadata": {},
      "outputs": [],
      "source": [
        "import numpy as np\n",
        "from torch.utils.data import Dataset\n",
        "\n",
        "# DataLoaderに渡せるようにするクラスを定義\n",
        "class FashionMNIST(Dataset):\n",
        "    def __init__(self, X, y=None, transform=None):\n",
        "        self.X = X\n",
        "        self.y = y\n",
        "        self.transform = transform\n",
        "        \n",
        "    # データ数を返す\n",
        "    def __len__(self):\n",
        "        return len(self.X.index)\n",
        "    \n",
        "    # データとラベルを返す\n",
        "    def __getitem__(self, index):\n",
        "        image = self.X.iloc[index, ].values.astype(np.uint8).reshape((28, 28, 1))\n",
        "        \n",
        "        if self.transform is not None:\n",
        "            image = self.transform(image)\n",
        "            \n",
        "        if self.y is not None:\n",
        "            return image, self.y.iloc[index]\n",
        "        else:\n",
        "            return image"
      ]
    },
    {
      "cell_type": "code",
      "execution_count": null,
      "metadata": {
        "id": "rO53yVOt_MKs"
      },
      "outputs": [],
      "source": [
        "import pandas as pd\n",
        "from sklearn.model_selection import train_test_split\n",
        "import torchvision.transforms as transforms\n",
        "\n",
        "# csvファイルの読み込み\n",
        "train_df = pd.read_csv('../input/train.csv')\n",
        "test_df = pd.read_csv('../input/test.csv')\n",
        "\n",
        "# train.csvの内容を訓練データと検証データに分割\n",
        "X_train, X_valid, y_train, y_valid = \\\n",
        "    train_test_split(train_df.iloc[:, 1:], train_df['label'], test_size=0.2, random_state=0)\n",
        "\n",
        "# テストデータ作成\n",
        "X_test = test_df\n",
        "\n",
        "# pytorch datasetを作成（DataLoaderに渡せるように変換）\n",
        "train_dataset = FashionMNIST(X=X_train, y=y_train, transform=transforms.ToTensor())\n",
        "valid_dataset = FashionMNIST(X=X_valid, y=y_valid, transform=transforms.ToTensor())\n",
        "test_dataset = FashionMNIST(X=X_test, transform=transforms.ToTensor())"
      ]
    },
    {
      "cell_type": "markdown",
      "metadata": {},
      "source": [
        "### scikit-learnとかフルスクラッチとか"
      ]
    },
    {
      "cell_type": "code",
      "execution_count": null,
      "metadata": {},
      "outputs": [],
      "source": [
        "import pandas as pd\n",
        "from sklearn.model_selection import train_test_split\n",
        "\n",
        "# csvファイルの読み込み\n",
        "train_df = pd.read_csv('../input/train.csv')\n",
        "test_df = pd.read_csv('../input/test.csv')\n",
        "\n",
        "# train.csvの内容を訓練データと検証データに分割\n",
        "X_train, X_valid, y_train, y_valid = \\\n",
        "    train_test_split(train_df.iloc[:, 1:], train_df['label'], test_size=0.2, random_state=0)\n",
        "\n",
        "# テストデータ作成\n",
        "X_test = test_df\n",
        "\n",
        "# 各データサイズの表示\n",
        "print('train image shape : ', X_train.shape)\n",
        "print('train label shape : ', y_train.shape)\n",
        "print('valid image shape : ', X_valid.shape)\n",
        "print('valid label image : ', y_valid.shape)\n",
        "print('test image shape  : ', X_test.shape)"
      ]
    },
    {
      "cell_type": "markdown",
      "metadata": {},
      "source": [
        "## csvファイルの作り方"
      ]
    },
    {
      "cell_type": "code",
      "execution_count": null,
      "metadata": {},
      "outputs": [],
      "source": [
        "import pandas as pd\n",
        "import numpy as np\n",
        "\n",
        "out_df = pd.DataFrame()\n",
        "out_df['ImageId'] = np.arange(1, len(test_df)+1)\n",
        "out_df['Label'] = # 予測結果\n",
        "\n",
        "out_df.to_csv('submission.csv', index=None)"
      ]
    }
  ],
  "metadata": {
    "accelerator": "GPU",
    "colab": {
      "name": "week2-3.ipynb",
      "provenance": []
    },
    "kernelspec": {
      "display_name": "Python 3",
      "name": "python3"
    },
    "language_info": {
      "codemirror_mode": {
        "name": "ipython",
        "version": 3
      },
      "file_extension": ".py",
      "mimetype": "text/x-python",
      "name": "python",
      "nbconvert_exporter": "python",
      "pygments_lexer": "ipython3",
      "version": "3.7.5"
    }
  },
  "nbformat": 4,
  "nbformat_minor": 0
}
