{
 "cells": [
  {
   "cell_type": "markdown",
   "metadata": {},
   "source": [
    "# 機械学習"
   ]
  },
  {
   "cell_type": "markdown",
   "metadata": {},
   "source": [
    "## 目次\n",
    "\n",
    "- 項目の説明\n",
    "- カテゴリー変数の扱い\n",
    "- 欠損値の扱い"
   ]
  },
  {
   "cell_type": "markdown",
   "metadata": {},
   "source": [
    "## Section2 データの解説"
   ]
  },
  {
   "cell_type": "code",
   "execution_count": null,
   "metadata": {},
   "outputs": [],
   "source": [
    "# matplotが使えるようにする\n",
    "\n",
    "import matplotlib\n",
    "%matplotlib inline"
   ]
  },
  {
   "cell_type": "code",
   "execution_count": null,
   "metadata": {},
   "outputs": [],
   "source": [
    "# データのロード\n",
    "\n",
    "import pandas as pd\n",
    "\n",
    "data = pd.read_csv(\"./data/titanic.csv\")"
   ]
  },
  {
   "cell_type": "markdown",
   "metadata": {},
   "source": [
    "### 2.1 項目の説明"
   ]
  },
  {
   "cell_type": "code",
   "execution_count": null,
   "metadata": {},
   "outputs": [],
   "source": [
    "# 先頭5行を表示\n",
    "\n",
    "data.head()"
   ]
  },
  {
   "cell_type": "markdown",
   "metadata": {},
   "source": [
    "- PassengerId – 乗客識別ユニークID\n",
    "- Survived – 生存フラグ（0=死亡、1=生存）　←　これを予測する\n",
    "- Pclass – チケットクラス（1st, 2nd, 3rd）\n",
    "- Name – 乗客の名前\n",
    "- Sex – 性別（male=男性、female＝女性）\n",
    "- Age – 年齢\n",
    "- SibSp – タイタニックに同乗している兄弟/配偶者の数\n",
    "- Parch – タイタニックに同乗している親/子供の数\n",
    "- Ticket – チケット番号\n",
    "- Fare – 料金\n",
    "- Cabin – 客室番号\n",
    "- Embarked – タイタニックへ乗った港（C=Cherbourg, S=Southampton, Q=Queenstown）"
   ]
  },
  {
   "cell_type": "code",
   "execution_count": null,
   "metadata": {},
   "outputs": [],
   "source": [
    "# データのサイズを確認\n",
    "\n",
    "data.shape"
   ]
  },
  {
   "cell_type": "code",
   "execution_count": null,
   "metadata": {},
   "outputs": [],
   "source": [
    "# データの欠損・型を確認\n",
    "\n",
    "data.info()"
   ]
  },
  {
   "cell_type": "code",
   "execution_count": null,
   "metadata": {},
   "outputs": [],
   "source": [
    "def nullCountFig(df):\n",
    "    null_val = df.isnull().sum()\n",
    "    percent = 100 * df.isnull().sum()/len(df)\n",
    "    counted_table = pd.concat([null_val, percent], axis=1)\n",
    "    counted_figure = counted_table.rename(\n",
    "        columns = {0 : '欠損数', 1 : '欠損率(%)'}\n",
    "    )\n",
    "    return counted_figure\n",
    "\n",
    "nullCountFig(data)\n",
    "    "
   ]
  },
  {
   "cell_type": "markdown",
   "metadata": {},
   "source": [
    "### 2.2 カテゴリー変数の扱い\n",
    "\n",
    "文字列のままでは基本的にモデルへ入力することができないため、代わりとなる数値に変換する必要があります。\n",
    "\n",
    "一般的に文字列データは量的ではなく質的なデータなため、扱いにくい場合があります。\n",
    "\n",
    "そこで、データを0又は1で表現したダミー変数に変換する処理を行います。この処理を **One-Hot エンコーディング** といいます。"
   ]
  },
  {
   "cell_type": "code",
   "execution_count": null,
   "metadata": {},
   "outputs": [],
   "source": [
    "# データの確認\n",
    "print(data.Embarked.value_counts())\n",
    "\n",
    "data_dummies = pd.get_dummies(data)\n",
    "print(\"Features after get_dummies:\\n\", list(data_dummies.columns))\n",
    "\n",
    "display(data_dummies.head())\n"
   ]
  },
  {
   "cell_type": "markdown",
   "metadata": {},
   "source": [
    "### 2.3 欠損値の扱い\n",
    "\n",
    "欠損には大きく3種類あります。\n",
    "\n",
    "- 完全にランダムに欠損\n",
    "- 観測データに依存する欠損（特定のデータのみ欠損）\n",
    "- 欠損データに依存する欠損（そもそもデータとして収集されていない）\n",
    "\n",
    "これらを考慮した上で、欠損値に対応する主な方針は4つです。\n",
    "\n",
    "1. 欠損のある行、列を除外する\n",
    "2. 何らかの値で埋める（単変量補完】\n",
    "3. 何らかの値で埋める（多変量補完）\n",
    "4. 欠損値を受け入れてくれるモデルを使う"
   ]
  },
  {
   "cell_type": "markdown",
   "metadata": {},
   "source": [
    "#### 1. 欠損のある行、列を除外する\n",
    "\n",
    "メリット：かんたん\n",
    "\n",
    "デメリット：予測性能の低下を招きやすい"
   ]
  },
  {
   "cell_type": "code",
   "execution_count": null,
   "metadata": {},
   "outputs": [],
   "source": [
    "# 特定のデータを除外する\n",
    "non_null_data1 = data.drop(['Age', 'Cabin', 'Embarked'], axis=1)\n",
    "display(non_null_data1)\n",
    "\n",
    "# 特定のデータを取り出す\n",
    "non_null_data2 = data[['PassengerId', 'Survived', 'Pclass', 'Name', 'Sex', 'SibSp', 'Parch', 'Ticket', 'Fare']]\n",
    "display(non_null_data2)\n",
    "\n",
    "# 欠損値が一つでも含まれる列を除外する\n",
    "non_null_data3 = data.dropna()\n",
    "display(non_null_data3)"
   ]
  },
  {
   "cell_type": "markdown",
   "metadata": {},
   "source": [
    "#### 2. 何らかの値で埋める（単変量補完）\n",
    "\n",
    "メリット：かんたん\n",
    "\n",
    "デメリット：欠損が多いと効果薄"
   ]
  },
  {
   "cell_type": "code",
   "execution_count": null,
   "metadata": {},
   "outputs": [],
   "source": [
    "# 共通の値（0）で埋める\n",
    "simple_filled_data1 = data.fillna(0)\n",
    "display(filled_data1)\n",
    "\n",
    "# 平均値で埋める\n",
    "## 平均値：.mean()\n",
    "## 中央値：.median()\n",
    "## 最瀕値：.mode()\n",
    "simple_filled_data2 = data.fillna(data.mean())\n",
    "display(filled_data2)"
   ]
  },
  {
   "cell_type": "markdown",
   "metadata": {},
   "source": [
    "#### 3. 何らかの値で埋める（多変量補完）\n",
    "\n",
    "メリット：予測精度が高くなりがち\n",
    "\n",
    "デメリット：うまくいかなかった時、原因がわからないがち"
   ]
  },
  {
   "cell_type": "markdown",
   "metadata": {},
   "source": [
    "#### 4. 欠損値を受け入れてくれるモデルを使う\n",
    "\n",
    "メリット：予測精度が高くなりがち\n",
    "\n",
    "デメリット：ちょっとめんどくさい"
   ]
  }
 ],
 "metadata": {
  "interpreter": {
   "hash": "7cf671263d4c51f2d66b480f72e1e8058975d5cfc878dca772fd6bfe3ea757f9"
  },
  "kernelspec": {
   "display_name": "Python 3.7.5 64-bit ('colab': venv)",
   "language": "python",
   "name": "python3"
  },
  "language_info": {
   "codemirror_mode": {
    "name": "ipython",
    "version": 3
   },
   "file_extension": ".py",
   "mimetype": "text/x-python",
   "name": "python",
   "nbconvert_exporter": "python",
   "pygments_lexer": "ipython3",
   "version": "3.7.5"
  },
  "orig_nbformat": 4
 },
 "nbformat": 4,
 "nbformat_minor": 2
}
