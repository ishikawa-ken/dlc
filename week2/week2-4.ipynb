{
 "cells": [
  {
   "cell_type": "markdown",
   "metadata": {},
   "source": [
    "# ニューラルネットワーク入門"
   ]
  },
  {
   "cell_type": "markdown",
   "metadata": {},
   "source": [
    "## 目次\n",
    "\n",
    "- k-最近傍法\n",
    "- ロジスティック回帰\n",
    "- 決定木\n",
    "- ランダムフォレスト\n",
    "- 勾配ブースティング\n",
    "- 非線形サポートベクターマシン\n",
    "- ハイパーパラメータチューニングチートシート"
   ]
  },
  {
   "cell_type": "markdown",
   "metadata": {},
   "source": [
    "## Section4 最適化手法と活性化関数と損失関数"
   ]
  },
  {
   "cell_type": "code",
   "execution_count": 1,
   "metadata": {},
   "outputs": [],
   "source": [
    "# 図表が使えるようにする\n",
    "\n",
    "import matplotlib\n",
    "%matplotlib inline\n",
    "import matplotlib.pyplot as plt\n",
    "import matplotlib.animation as anim\n",
    "from mpl_toolkits.mplot3d import Axes3D"
   ]
  },
  {
   "cell_type": "markdown",
   "metadata": {},
   "source": [
    "### 4.1 最適化手法"
   ]
  },
  {
   "cell_type": "code",
   "execution_count": null,
   "metadata": {},
   "outputs": [],
   "source": [
    "class _target():\n",
    "    test_type: int = 3\n",
    "    x: float = 0\n",
    "    grad: float = 0\n",
    "\n",
    "    def __post_init__(self, *args, **kwds):\n",
    "        if self.test_type == 1:\n",
    "            self.params = np.array([1e-4, 4.])\n",
    "            self.exact = np.array([5., 0.])\n",
    "            self.elevation = 1.\n",
    "            self.view_init = (35,)\n",
    "            self.epoch = 2**7\n",
    "            self.seed = 0\n",
    "        elif self.test_type == 2:\n",
    "            self.params = np.array([-1., 2.])\n",
    "            self.exact = np.array([0., 0.])\n",
    "            self.elevation = 0.25\n",
    "            self.view_init = (75,)\n",
    "            self.epoch = 2**7\n",
    "            self.seed = 0\n",
    "        elif self.test_type == 3:\n",
    "            self.params = np.array([-3., 4.])\n",
    "            self.exact = np.array([0., 0.])\n",
    "            self.elevation = 0.125\n",
    "            self.view_init = (55,)\n",
    "            self.epoch = 2**10\n",
    "            self.seed = 543\n",
    "        elif self.test_type == 4:\n",
    "            self.params = np.array([-2., 2.])\n",
    "            self.exact = np.array([0., 0.])\n",
    "            self.elevation = 0.25\n",
    "            self.view_init = (45, -87)\n",
    "            self.epoch = 2**8\n",
    "            self.seed = 3\n",
    "\n",
    "    def forward(self, *args, **kwds):\n",
    "        if self.test_type == 1:\n",
    "            return self.params[1]**2 - self.params[0]**2\n",
    "        elif self.test_type == 2:\n",
    "            return np.tanh(self.params[0])**2 + np.tanh(self.params[1])**2\n",
    "        elif self.test_type == 3:\n",
    "            return (-(np.sinc(self.params[0])+np.sinc(self.params[1]))\n",
    "                    + (self.params[0]**2 + self.params[1]**2)/10)\n",
    "        elif self.test_type == 4:\n",
    "            return (0.125*(self.params[0]**2 + self.params[1]**2)\n",
    "                    + np.tanh(self.params[0]*10)**2)\n",
    "\n",
    "    def backward(self, *args, **kwds):\n",
    "        if self.test_type == 1:\n",
    "            dw = -2*self.params[0]\n",
    "            db = 2*self.params[1]\n",
    "        elif self.test_type == 2:\n",
    "            dw = 2 * np.tanh(self.params[0]) / np.cosh(self.params[0])**2\n",
    "            db = 2 * np.tanh(self.params[1]) / np.cosh(self.params[1])**2\n",
    "        elif self.test_type == 3:\n",
    "            dw = (np.sin(np.pi*self.params[0])/(np.pi * self.params[0]**2)\n",
    "                  + 2*self.params[0]/10\n",
    "                  - np.cos(np.pi*self.params[0])/self.params[0])\n",
    "            db = (np.sin(np.pi*self.params[1])/(np.pi * self.params[1]**2)\n",
    "                  + 2*self.params[1]/10\n",
    "                  - np.cos(np.pi*self.params[1])/self.params[1])\n",
    "        elif self.test_type == 4:\n",
    "            dw = (0.25*self.params[0]\n",
    "                  + 20 * np.tanh(self.params[0]*10)\n",
    "                       / np.cosh(self.params[0]*10)**2)\n",
    "            db = 0.25*self.params[1]\n",
    "        return np.array([dw, db])\n",
    "\n",
    "    def get_exact(self, *args, **kwds):\n",
    "        params = self.params.copy()\n",
    "        self.params = self.exact\n",
    "        exact_z = self.forward()\n",
    "        self.params = params\n",
    "        return exact_z\n",
    "\n",
    "class TrajectoryAnimation3D(anim.FuncAnimation):\n",
    "    def __init__(self, paths, labels=[], fig=None, ax=None,\n",
    "                 blit=True, coloring=None, **kwargs):\n",
    "        if fig is None:\n",
    "            if ax is None:\n",
    "                fig, ax = plt.subplots()\n",
    "            else:\n",
    "                fig = ax.get_figure()\n",
    "        else:\n",
    "            if ax is None:\n",
    "                ax = fig.gca()\n",
    "\n",
    "        self.fig = fig\n",
    "        self.ax = ax\n",
    "        self.paths = paths\n",
    "\n",
    "        frames = paths.shape[0]\n",
    "\n",
    "        self.lines = []\n",
    "        self.points = []\n",
    "        for j, opt in enumerate(labels):\n",
    "            line, = ax.plot([], [], [], label=opt, lw=2, color=coloring[j])\n",
    "            point, = ax.plot([], [], [], marker=\"o\", color=coloring[j])\n",
    "            self.lines.append(line)\n",
    "            self.points.append(point)\n",
    "\n",
    "        super().__init__(fig, self.animate,\n",
    "                         frames=frames, blit=blit, **kwargs)\n",
    "\n",
    "    def animate(self, i):\n",
    "        start = 0 if i-8 < 0 else i-8\n",
    "        j = 0\n",
    "        for line, point in zip(self.lines, self.points):\n",
    "            line.set_data(self.paths[start:i+1, j, 0],\n",
    "                          self.paths[start:i+1, j, 1])\n",
    "            line.set_3d_properties(self.paths[start:i+1, j, 2])\n",
    "            line.set_zorder(i+100)\n",
    "            point.set_data(self.paths[i, j, 0], self.paths[i, j, 1])\n",
    "            point.set_3d_properties(self.paths[i, j, 2])\n",
    "            point.set_zorder(i+101)\n",
    "            j += 1\n",
    "        return self.lines + self.points\n",
    "    \n",
    "def optPlot():\n",
    "    objective = _target(test_type=4)\n",
    "    start_x, start_y = objective.params\n",
    "    start_z = objective.forward()\n",
    "\n",
    "    x_range = np.arange(-5, 5, 1e-2)\n",
    "    y_range = np.arange(-5, 5, 1e-2)\n",
    "    X, Y = np.meshgrid(x_range, y_range)\n",
    "    objective.params = np.array([X, Y])\n",
    "    Z = objective.forward()\n",
    "    elevation = np.arange(np.min(Z), np.max(Z), objective.elevation)\n",
    "\n",
    "    exact_z = objective.get_exact()\n",
    "\n",
    "    epoch = objective.epoch\n",
    "    frames = 2**6\n",
    "    fps = 10\n",
    "\n",
    "    np.random.seed(seed=objective.seed)"
   ]
  },
  {
   "cell_type": "markdown",
   "metadata": {},
   "source": [
    "最適化手法のパラメータの更新式\n",
    "$${w_{t+1} = w_t - \\eta \\nabla_{w_t} \\mathcal{L}(w_t)}$$\n",
    "\n",
    "$w_t \\cdots$ 時刻$t$でのパラメータ\n",
    "\n",
    "$\\eta \\cdots$学習率\n",
    "\n",
    "$\\mathcal{L}(w_t) \\cdots$ 損失関数"
   ]
  },
  {
   "cell_type": "markdown",
   "metadata": {},
   "source": [
    "#### 4.1.1 確率的勾配降下法 (SGD)\n",
    "\n",
    "※SGD (Stochastic Gradient Descent)\n",
    "\n",
    "$${\\begin{align*}\n",
    "  g_t &= \\nabla_{w_t}\\mathcal{L}(w_t) \\\\\n",
    "  \\Delta w_t &= - \\eta g_t \\\\\n",
    "  w_{t+1} &= w_t + \\Delta w_t\n",
    "\\end{align*}\n",
    "}$$"
   ]
  },
  {
   "cell_type": "markdown",
   "metadata": {},
   "source": [
    "#### 4.1.2 Adagrad\n",
    "\n",
    "$${\\begin{align*}\n",
    "  g_t &= \\nabla_{w_t} \\mathcal{L}(w_t) \\\\\n",
    "  \\Delta w_t &= - \\cfrac{\\eta}{\\displaystyle\\sqrt{\\sum_{\\tau=1}^{t}{g_{\\tau}^2}}} g_t \\\\\n",
    "  w_{t+1} &= w_t + \\Delta w_t\n",
    "\\end{align*}\n",
    "}$$"
   ]
  },
  {
   "cell_type": "markdown",
   "metadata": {},
   "source": [
    "#### 4.1.4 RMSProp"
   ]
  },
  {
   "cell_type": "markdown",
   "metadata": {},
   "source": [
    "#### 4.1.4 Adam\n",
    "過去の勾配の移動平均と過去の勾配の二乗平均を組み合わせた"
   ]
  },
  {
   "cell_type": "markdown",
   "metadata": {},
   "source": [
    "### 4.2 活性化関数"
   ]
  },
  {
   "cell_type": "code",
   "execution_count": 30,
   "metadata": {},
   "outputs": [],
   "source": [
    "import numpy as np\n",
    "\n",
    "class Activation():\n",
    "    def __init__(self, *args, **kwds):\n",
    "        pass\n",
    "\n",
    "    def forward(self, *args, **kwds):\n",
    "        raise NotImplemented\n",
    "\n",
    "    def backward(self, *args, **kwds):\n",
    "        raise NotImplemented\n",
    "\n",
    "    def update(self, *args, **kwds):\n",
    "        raise NotImplemented\n",
    "    \n",
    "def plotActGraph(x, cls, *args, **kwds):\n",
    "    activator = cls(*args, **kwds)\n",
    "    \n",
    "    y = activator.forward(x, *args, **kwds)\n",
    "    dx = activator.backward(x, y, *args, **kwds)\n",
    "    fig, ax = plt.subplots(1)\n",
    "    ax.plot(x[0], y[0], label='forward')\n",
    "    ax.plot(x[0], dx[0], label='backward')\n",
    "    ax.set_xlabel('x')\n",
    "    ax.set_ylabel('y')\n",
    "    ax.grid()\n",
    "    ax.legend(loc='best')\n",
    "    \n",
    "x = np.arange(-5, 5, 5e-2).reshape(1, -1)"
   ]
  },
  {
   "cell_type": "markdown",
   "metadata": {},
   "source": [
    "#### 4.2.1 Sigmoid関数\n",
    "\n",
    "順伝搬\n",
    "$${y = \\cfrac{1}{1 + e^{-x}}}$$\n",
    "\n",
    "逆伝搬\n",
    "$${\\cfrac{\\partial y}{\\partial x} = y(1 - y)}$$\n",
    "\n",
    "\n",
    "😇 逆伝搬の計算が簡単\n",
    "\n",
    "👿 微分の最大値が$0.25$なので層を重ねると**勾配消失**が発生しやすい\n",
    "\n",
    "👿 順伝搬の計算負荷が低くない"
   ]
  },
  {
   "cell_type": "code",
   "execution_count": 31,
   "metadata": {},
   "outputs": [
    {
     "data": {
      "image/png": "[encoded data removed]",
      "text/plain": [
       "<Figure size 432x288 with 1 Axes>"
      ]
     },
     "metadata": {
      "needs_background": "light"
     },
     "output_type": "display_data"
    }
   ],
   "source": [
    "class Sigmoid(Activation):\n",
    "    def forward(self, x, *args, **kwds):\n",
    "        return 1/(1 + np.exp(-x))\n",
    "\n",
    "    def backward(self, x, y, *args, **kwds):\n",
    "        return y*(1 - y)\n",
    "\n",
    "plotActGraph(x, Sigmoid)"
   ]
  },
  {
   "cell_type": "markdown",
   "metadata": {},
   "source": [
    "#### 4.2.2 tanh関数\n",
    "\n",
    "順伝搬\n",
    "$${y = \\tanh x = \\cfrac{e^x - e^{-x}}{e^x + e^{-x}}}$$\n",
    "\n",
    "逆伝搬\n",
    "$${\\cfrac{\\partial y}{\\partial x} = \\textrm{sech}^2 x = \\cfrac{1}{\\cosh^2 x} = \\cfrac{4}{(e^x + e^{-x})^2}}$$\n",
    "\n",
    "😇 Sigmoidに比べて勾配損失のリスク軽減\n",
    "\n",
    "👿 極端に大きい・小さい入力の微分が$0$になる"
   ]
  },
  {
   "cell_type": "code",
   "execution_count": 32,
   "metadata": {},
   "outputs": [
    {
     "data": {
      "image/png": "[encoded data removed]",
      "text/plain": [
       "<Figure size 432x288 with 1 Axes>"
      ]
     },
     "metadata": {
      "needs_background": "light"
     },
     "output_type": "display_data"
    }
   ],
   "source": [
    "class Tanh(Activation):\n",
    "    def forward(self, x, *args, **kwds):\n",
    "        return np.tanh(x)\n",
    "\n",
    "    def backward(self, x, *args, **kwds):\n",
    "        return 1 - np.tanh(x)**2\n",
    "\n",
    "plotActGraph(x, Tanh)"
   ]
  },
  {
   "cell_type": "markdown",
   "metadata": {},
   "source": [
    "#### 4.2.3 ReLU関数\n",
    "\n",
    "順伝搬\n",
    "$${y = \\left\\{\n",
    "  \\begin{array}{cc}\n",
    "    x & (x \\gt 0) \\\\\n",
    "    0 & (x \\le 0)\n",
    "  \\end{array}\n",
    "\\right.\n",
    "}$$\n",
    "\n",
    "逆伝搬\n",
    "$${\\cfrac{\\partial y}{\\partial x} = \\left\\{\n",
    "  \\begin{array}{cc}\n",
    "    1 & (x \\gt 0) \\\\\n",
    "    0 & (x \\le 0)\n",
    "  \\end{array}\n",
    "\\right.\n",
    "}$$\n",
    "\n",
    "😇 勾配損失が起こりにくい（多層化しやすい）\n",
    "\n",
    "👿 負の入力に対しては一切学習が進まない\n",
    "\n",
    "※ 誤差逆伝搬法において活性化関数は微分可能であるべきですが、実際のところピッタリ$x=0$となる場合の方が少ない&どうせ$0$なので問題になっていません。\n"
   ]
  },
  {
   "cell_type": "code",
   "execution_count": 33,
   "metadata": {},
   "outputs": [
    {
     "data": {
      "image/png": "[encoded data removed]",
      "text/plain": [
       "<Figure size 432x288 with 1 Axes>"
      ]
     },
     "metadata": {
      "needs_background": "light"
     },
     "output_type": "display_data"
    }
   ],
   "source": [
    "class ReLU(Activation):\n",
    "    def forward(self, x, *args, **kwds):\n",
    "        return np.maximum(0, x)\n",
    "\n",
    "    def backward(self, x, *args, **kwds):\n",
    "        return np.where(x > 0, 1, 0)\n",
    "\n",
    "plotActGraph(x, ReLU)"
   ]
  },
  {
   "cell_type": "markdown",
   "metadata": {},
   "source": [
    "#### 4.2.4 Softmax関数\n",
    "\n",
    "順伝搬\n",
    "$${y_i = \\cfrac{e^{x_i}}{\\displaystyle\\sum_{k=1}^{n}{e^{x_k}}} \\quad (i = 1, 2, \\ldots, n)}$$\n",
    "\n",
    "逆伝搬\n",
    "$$\\left( \\cfrac{\\partial y}{\\partial x} \\right)_i=\\sum_{j=1}^{n}\\begin{cases}y_i(1-y_j) && (i = j)\\\\  -y_i y_j && (i \\ne j)\\end{cases}$$\n",
    "\n",
    "😇 出力値の合計が1になる（出力がそのまま確率として利用できる）\n",
    "\n",
    "※出力値の合計が1になるため、主に多クラス分類の出力層として利用されます。また、データが2個の場合はSigmoid関数になります。"
   ]
  },
  {
   "cell_type": "code",
   "execution_count": 34,
   "metadata": {},
   "outputs": [
    {
     "data": {
      "image/png": "[encoded data removed]",
      "text/plain": [
       "<Figure size 432x288 with 1 Axes>"
      ]
     },
     "metadata": {
      "needs_background": "light"
     },
     "output_type": "display_data"
    }
   ],
   "source": [
    "class Softmax(Activation):\n",
    "    def forward(self, x, *args, **kwds):\n",
    "        exp_x = np.exp(x-np.max(x, axis=1, keepdims=True))\n",
    "        return exp_x/np.sum(exp_x, axis=1, keepdims=True)\n",
    "\n",
    "    def backward(self, x, y, *args, **kwds):\n",
    "        return y*(1 - y)\n",
    "    \n",
    "plotActGraph(x, Softmax)"
   ]
  },
  {
   "cell_type": "markdown",
   "metadata": {},
   "source": [
    "#### 4.2.5 Swish関数\n",
    "\n",
    "順伝搬\n",
    "$${y = x \\sigma_{sigmoid}(\\beta x) = \\cfrac{x}{1 + e^{-\\beta x}}}$$\n",
    "\n",
    "逆伝搬\n",
    "$${\\cfrac{\\partial y}{\\partial x} = \\beta y + \\sigma_{sigmoid}(\\beta x)(1 - \\beta y) = \\beta y + \\cfrac{1 - \\beta y}{1 + e^{-\\beta x}}}$$\n",
    "\n",
    "😇 微分可能（無限回微分可能）\n",
    "\n",
    "😇 負の入力に対して負の値を取れる"
   ]
  },
  {
   "cell_type": "code",
   "execution_count": 36,
   "metadata": {},
   "outputs": [
    {
     "data": {
      "image/png": "[encoded data removed]",
      "text/plain": [
       "<Figure size 432x288 with 1 Axes>"
      ]
     },
     "metadata": {
      "needs_background": "light"
     },
     "output_type": "display_data"
    }
   ],
   "source": [
    "class Swish(Activation):\n",
    "    def __init__(self, beta=1, *args, **kwds):\n",
    "        self.beta = beta\n",
    "        super().__init__(*args, **kwds)\n",
    "\n",
    "    def forward(self, x, *args, **kwds):\n",
    "        return x/(1 + np.exp(-self.beta*x))\n",
    "\n",
    "\n",
    "    def backward(self, x, y, *args, **kwds):\n",
    "        return self.beta*y + (1 - self.beta*y)/(1 + np.exp(-self.beta*x))\n",
    "    \n",
    "plotActGraph(x, Swish)"
   ]
  },
  {
   "cell_type": "markdown",
   "metadata": {},
   "source": [
    "#### 4.2.6 Mish関数\n",
    "\n",
    "順伝搬\n",
    "$${y = x \\tanh{(\\varsigma(x))} = x \\tanh{(\\ln{(1 + e^x)})}}$$\n",
    "\n",
    "逆伝搬\n",
    "$$\\cfrac{\\partial y}{\\partial x} = \\cfrac{e^x \\omega}{\\delta^2}$$\n",
    "$${\\begin{align*}\n",
    "    \\omega &= 4(x + 1) + 4e^{2x} + e^{3x} + (4x + 6)e^x \n",
    "    ,&\\delta &= 2e^x + e^{2x} + 2\n",
    "\\end{align*}}$$\n",
    "\n",
    "😇 すごい性能いいらしい\n",
    "\n",
    "👿 計算負荷が高い\n",
    "\n",
    "👿 逆伝搬の式が複雑怪奇"
   ]
  },
  {
   "cell_type": "code",
   "execution_count": 35,
   "metadata": {},
   "outputs": [
    {
     "data": {
      "image/png": "[encoded data removed]",
      "text/plain": [
       "<Figure size 432x288 with 1 Axes>"
      ]
     },
     "metadata": {
      "needs_background": "light"
     },
     "output_type": "display_data"
    }
   ],
   "source": [
    "class Mish(Activation):\n",
    "    def forward(self, x, *args, **kwds):\n",
    "        return x*np.tanh(np.logaddexp(x, 0))\n",
    "\n",
    "    def backward(self, x, *args, **kwds):\n",
    "        omega = (4*(x + 1) + 4*np.exp(2*x)\n",
    "              + np.exp(3*x) + (4*x + 6)*np.exp(x))\n",
    "        delta = 2*np.exp(x) + np.exp(2*x) + 2\n",
    "        return np.exp(x)*omega/delta**2\n",
    "\n",
    "plotActGraph(x, Mish)"
   ]
  },
  {
   "cell_type": "markdown",
   "metadata": {},
   "source": [
    "### 4.3 損失関数"
   ]
  },
  {
   "cell_type": "code",
   "execution_count": 28,
   "metadata": {},
   "outputs": [],
   "source": [
    "class Error():\n",
    "    def __init__(self, *args, **kwds):\n",
    "        self.error = 0\n",
    "\n",
    "    def forward(self, *args, **kwds):\n",
    "        pass\n",
    "\n",
    "    def backward(self, *args, **kwds):\n",
    "        pass\n",
    "\n",
    "    def total_error(self, *args, **kwds):\n",
    "        return np.sum(self.error)/self.error.size\n",
    "    \n",
    "def plotErrGraph(y, cls, *args, **kwds):\n",
    "    activator = cls(*args, **kwds)\n",
    "    \n",
    "    l = activator.forward(y, 0 ,*args, **kwds)\n",
    "    dl = activator.backward(y, 1, *args, **kwds)\n",
    "    fig, ax = plt.subplots(1)\n",
    "    ax.plot(x[0], l[0], label='t=0')\n",
    "    ax.plot(x[0], dl[0], label='t=1')\n",
    "    ax.set_xlabel('y')\n",
    "    ax.set_ylabel('error')\n",
    "    ax.grid()\n",
    "    ax.legend(loc='best')\n",
    "    \n",
    "x = np.arange(0, 1, 5e-2).reshape(1, -1)"
   ]
  },
  {
   "cell_type": "markdown",
   "metadata": {},
   "source": [
    "#### 4.3.1 平均二乗誤差 (MSE)\n",
    "\n",
    "$${\\mathcal{L}(y) = \\cfrac{1}{2} (y - t)^2}$$\n",
    "\n",
    "微分\n",
    "$${\\cfrac{\\partial \\mathcal{L}}{\\partial y} = \\cfrac{1}{2} \\times 2(y - t) = y - t}$$\n",
    "\n",
    "利用シーン：線形回帰問題"
   ]
  },
  {
   "cell_type": "code",
   "execution_count": 29,
   "metadata": {},
   "outputs": [
    {
     "data": {
      "image/png": "[encoded data removed]",
      "text/plain": [
       "<Figure size 432x288 with 1 Axes>"
      ]
     },
     "metadata": {
      "needs_background": "light"
     },
     "output_type": "display_data"
    }
   ],
   "source": [
    "class SquareError(Error):\n",
    "    def forward(self, y, t, *args, **kwds):\n",
    "        self.error = 0.5 * (y - t)**2\n",
    "        return self.error\n",
    "\n",
    "    def backward(self, y, t, *args, **kwds):\n",
    "        return y - t\n",
    "    \n",
    "plotErrGraph(x, SquareError)"
   ]
  },
  {
   "cell_type": "markdown",
   "metadata": {},
   "source": [
    "#### 4.3.2 2値交差エントロピー (BCE)\n",
    "\n",
    "$${\\mathcal{L}(y) = - t \\log y - (1 - t) \\log(1 - y)}$$\n",
    "\n",
    "微分\n",
    "$${\\cfrac{\\partial \\mathcal{L}}{\\partial y} = \\cfrac{y - t}{y(1 - y)}}$$\n",
    "\n",
    "利用シーン：2クラス分類問題（出力層の活性化関数がSigmoid関数）"
   ]
  },
  {
   "cell_type": "code",
   "execution_count": 27,
   "metadata": {},
   "outputs": [
    {
     "name": "stderr",
     "output_type": "stream",
     "text": [
      "/home/rei/dlc/colab/lib/python3.7/site-packages/ipykernel_launcher.py:3: RuntimeWarning: divide by zero encountered in log\n",
      "  This is separate from the ipykernel package so we can avoid doing imports until\n",
      "/home/rei/dlc/colab/lib/python3.7/site-packages/ipykernel_launcher.py:3: RuntimeWarning: invalid value encountered in multiply\n",
      "  This is separate from the ipykernel package so we can avoid doing imports until\n",
      "/home/rei/dlc/colab/lib/python3.7/site-packages/ipykernel_launcher.py:7: RuntimeWarning: invalid value encountered in true_divide\n",
      "  import sys\n"
     ]
    },
    {
     "data": {
      "image/png": "[encoded data removed]",
      "text/plain": [
       "<Figure size 432x288 with 1 Axes>"
      ]
     },
     "metadata": {
      "needs_background": "light"
     },
     "output_type": "display_data"
    }
   ],
   "source": [
    "class BinaryCrossEntropy(Error):\n",
    "    def forward(self, y, t, *args, **kwds):\n",
    "        self.error = - t*np.log(y) - (1 - t)*np.log(1 - y)\n",
    "        return self.error\n",
    "\n",
    "    def backward(self, y, t, *args, **kwds):\n",
    "        return (y - t) / (y*(1 - y))\n",
    "    \n",
    "plotErrGraph(x, BinaryCrossEntropy)"
   ]
  },
  {
   "cell_type": "markdown",
   "metadata": {},
   "source": [
    "#### 4.3.3 交差エントロピー (CE)\n",
    "\n",
    "$${\\mathcal{L}(y) = - t \\log y}$$\n",
    "\n",
    "微分\n",
    "$${\\cfrac{\\partial \\mathcal{L}}{\\partial y_i} = -\\cfrac{t_i}{y_i}\n",
    "}$$\n",
    "\n",
    "利用シーン：多クラス分類問題（出力層の活性化関数がSoftmax関数）"
   ]
  },
  {
   "cell_type": "markdown",
   "metadata": {},
   "source": [
    "※Softmax - CE 層の逆伝搬\n",
    "\n",
    "$${\\begin{align*}\n",
    "  \\left( \\cfrac{\\partial \\mathcal{L}}{\\partial y} \\cfrac{\\partial y}{\\partial x} \\right)_i &= \\sum_{j=1}^{n}{\\left( \\cfrac{\\partial \\mathcal{L}}{\\partial y_j}\\cfrac{\\partial y_j}{\\partial x_i} \\right)} \\\\\n",
    "  &= \\sum_{j=1}^{n}{\n",
    "\\left\\{ \\begin{array}{ccc}\n",
    "    -\\cfrac{t_i}{y_i} \\times y_i (1 - y_i) & = t_i y_i - t_i & (j=i) \\\\\n",
    "    -\\cfrac{t_j}{y_j} \\times (-y_i y_j) &= t_j y_i & (j \\ne i)\n",
    "\\end{array} \\right\\}\n",
    "} \\\\\n",
    "  &= (t_i y_i - t_i)_{j=i} + y_i \\sum_{j=1, j\\ne i}^{n}{t_j}_j \\ne i \\\\\n",
    "  &= y_i \\sum_{j=1}^{n}{t_j} - t_i \\\\\n",
    "  &= y_i - t_i \n",
    "\\end{align*}\n",
    "}$$"
   ]
  },
  {
   "cell_type": "code",
   "execution_count": 26,
   "metadata": {},
   "outputs": [
    {
     "name": "stderr",
     "output_type": "stream",
     "text": [
      "/home/rei/dlc/colab/lib/python3.7/site-packages/ipykernel_launcher.py:3: RuntimeWarning: divide by zero encountered in log\n",
      "  This is separate from the ipykernel package so we can avoid doing imports until\n",
      "/home/rei/dlc/colab/lib/python3.7/site-packages/ipykernel_launcher.py:3: RuntimeWarning: invalid value encountered in multiply\n",
      "  This is separate from the ipykernel package so we can avoid doing imports until\n",
      "/home/rei/dlc/colab/lib/python3.7/site-packages/ipykernel_launcher.py:7: RuntimeWarning: invalid value encountered in true_divide\n",
      "  import sys\n"
     ]
    },
    {
     "data": {
      "image/png": "[encoded data removed]",
      "text/plain": [
       "<Figure size 432x288 with 1 Axes>"
      ]
     },
     "metadata": {
      "needs_background": "light"
     },
     "output_type": "display_data"
    }
   ],
   "source": [
    "class CrossEntropy(Error):\n",
    "    def forward(self, y, t, *args, **kwds):\n",
    "        self.error = - t*np.log(y)\n",
    "        return self.error\n",
    "\n",
    "    def backward(self, y, t, *args, **kwds):\n",
    "        return - t/y\n",
    "\n",
    "plotErrGraph(x, CrossEntropy)"
   ]
  }
 ],
 "metadata": {
  "interpreter": {
   "hash": "7cf671263d4c51f2d66b480f72e1e8058975d5cfc878dca772fd6bfe3ea757f9"
  },
  "kernelspec": {
   "display_name": "Python 3.7.5 64-bit ('colab': venv)",
   "language": "python",
   "name": "python3"
  },
  "language_info": {
   "codemirror_mode": {
    "name": "ipython",
    "version": 3
   },
   "file_extension": ".py",
   "mimetype": "text/x-python",
   "name": "python",
   "nbconvert_exporter": "python",
   "pygments_lexer": "ipython3",
   "version": "3.7.5"
  },
  "orig_nbformat": 4
 },
 "nbformat": 4,
 "nbformat_minor": 2
}
