{
 "cells": [
  {
   "cell_type": "markdown",
   "metadata": {},
   "source": [
    "# ニューラルネットワーク入門"
   ]
  },
  {
   "cell_type": "markdown",
   "metadata": {},
   "source": [
    "## 今日の目標\n",
    "手書き文字認識をしてみよう"
   ]
  },
  {
   "cell_type": "markdown",
   "metadata": {},
   "source": [
    "## 目次\n",
    "\n",
    "- Section1 ニューラルネットワークとは\n",
    "  - 1.1 パーセプトロン\n",
    "  - 1.2 多層パーセプトロン\n",
    "  - 1.3 誤差逆伝搬法\n",
    "  - 1.4 機械学習の流れ\n",
    "  - 1.5 学習とは\n",
    "  - 1.6 性能評価とは\n",
    "- Section2 データの解説\n",
    "  - 2.1 項目の説明\n",
    "  - 2.2 画像データのしくみ\n",
    "  - 2.3 他クラス分類モデルの評価\n",
    "-  Section3 Pytorchでの実装"
   ]
  },
  {
   "cell_type": "markdown",
   "metadata": {},
   "source": [
    "## Section1 ニューラルネットワークとは"
   ]
  },
  {
   "cell_type": "markdown",
   "metadata": {},
   "source": [
    "### 1.1 ディープラーニングが生まれるまで"
   ]
  },
  {
   "cell_type": "markdown",
   "metadata": {},
   "source": [
    "#### 1.1.1 神経細胞\n",
    "\n",
    "人間の脳の中には **神経細胞 (Neuron)** が約1千億個存在すると考えられています。\n",
    "\n",
    "この神経細胞が複雑なネットワークを構成し、電気信号をやり取りすることで知的な活動を可能にしているとされています。\n",
    "\n",
    "<img src=\"figures/neuron.png\" width=40%>\n",
    "\n",
    "画像の出典：https://www.sankyobo.co.jp/dicneu.html"
   ]
  },
  {
   "cell_type": "markdown",
   "metadata": {},
   "source": [
    "#### 1.1.2 形式ニューロン・単純パーセプトロン\n",
    "\n",
    "神経細胞とその活動を単純な形でモデル化したものが **McCulloch-Pitts モデル** です。主に **形式ニューロン** と呼ばれています。\n",
    "\n",
    "さらに、\n",
    "\n",
    "<img src=\"figures/formal_neuron.png\" width=40%>\n",
    "\n",
    "数式で表すと以下のとおりになります。\n",
    "\n",
    "$$ y = f\\left(\\sum(w_ix_i)+b\\right) $$\n",
    "\n",
    "$w_1$や$w_2$を **重み (Weight)** 、$b$を **バイアス (Bias)** と呼びます。バイアスは出力のしきい値として用いられます。\n",
    "\n",
    "$f(x)$は **活性化関数 (Activation function)** と呼びます。\n",
    "\n",
    "McCulloch-Pitts モデルでは実際の神経細胞の挙動（全か無かの法則）を表現するため、下記のヘビサイド関数が用いられました。\n",
    "\n",
    "$$f(x)=H(x)={\\begin{cases}1&(x>0)\\\\0&(x<0)\\end{cases}}$$"
   ]
  },
  {
   "cell_type": "markdown",
   "metadata": {},
   "source": [
    "#### 1.1.3 パーセプトロン\n",
    "\n",
    "$$ y = f\\left(\\sum(w_ix_i)+b\\right) $$\n"
   ]
  },
  {
   "cell_type": "markdown",
   "metadata": {},
   "source": [
    "#### 1.1.4 ニューラルネットワーク\n",
    "\n",
    "#### 1.1.5 ディープラーニング"
   ]
  },
  {
   "cell_type": "markdown",
   "metadata": {},
   "source": [
    "### 1.2 誤差逆伝搬法"
   ]
  },
  {
   "cell_type": "markdown",
   "metadata": {},
   "source": [
    "### 1.3 損失関数"
   ]
  }
 ],
 "metadata": {
  "language_info": {
   "name": "python"
  },
  "orig_nbformat": 4
 },
 "nbformat": 4,
 "nbformat_minor": 2
}
